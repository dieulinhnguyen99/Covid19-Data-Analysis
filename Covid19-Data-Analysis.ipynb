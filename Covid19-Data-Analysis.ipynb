{
 "cells": [
  {
   "cell_type": "code",
   "execution_count": 1,
   "metadata": {},
   "outputs": [],
   "source": [
    "import pandas as pd\n",
    "from matplotlib import pyplot as plt\n",
    "import seaborn as sns\n",
    "%matplotlib inline"
   ]
  },
  {
   "cell_type": "markdown",
   "metadata": {},
   "source": [
    "Firstly I use pandas to read the data and change \"unbekannt\" values to \"unknown\" by using the function replace.  "
   ]
  },
  {
   "cell_type": "code",
   "execution_count": 2,
   "metadata": {
    "scrolled": true
   },
   "outputs": [
    {
     "data": {
      "text/html": [
       "<div>\n",
       "<style scoped>\n",
       "    .dataframe tbody tr th:only-of-type {\n",
       "        vertical-align: middle;\n",
       "    }\n",
       "\n",
       "    .dataframe tbody tr th {\n",
       "        vertical-align: top;\n",
       "    }\n",
       "\n",
       "    .dataframe thead th {\n",
       "        text-align: right;\n",
       "    }\n",
       "</style>\n",
       "<table border=\"1\" class=\"dataframe\">\n",
       "  <thead>\n",
       "    <tr style=\"text-align: right;\">\n",
       "      <th></th>\n",
       "      <th>FID</th>\n",
       "      <th>IdBundesland</th>\n",
       "      <th>Bundesland</th>\n",
       "      <th>Landkreis</th>\n",
       "      <th>Altersgruppe</th>\n",
       "      <th>Geschlecht</th>\n",
       "      <th>AnzahlFall</th>\n",
       "      <th>AnzahlTodesfall</th>\n",
       "      <th>Meldedatum</th>\n",
       "      <th>IdLandkreis</th>\n",
       "      <th>Datenstand</th>\n",
       "      <th>NeuerFall</th>\n",
       "      <th>NeuerTodesfall</th>\n",
       "      <th>Refdatum</th>\n",
       "      <th>NeuGenesen</th>\n",
       "      <th>AnzahlGenesen</th>\n",
       "      <th>IstErkrankungsbeginn</th>\n",
       "      <th>Altersgruppe2</th>\n",
       "    </tr>\n",
       "  </thead>\n",
       "  <tbody>\n",
       "    <tr>\n",
       "      <th>0</th>\n",
       "      <td>52211390</td>\n",
       "      <td>1</td>\n",
       "      <td>Schleswig-Holstein</td>\n",
       "      <td>SK Flensburg</td>\n",
       "      <td>A00-A04</td>\n",
       "      <td>M</td>\n",
       "      <td>1</td>\n",
       "      <td>0</td>\n",
       "      <td>2020/09/30 00:00:00</td>\n",
       "      <td>1001</td>\n",
       "      <td>02.11.2020, 00:00 Uhr</td>\n",
       "      <td>0</td>\n",
       "      <td>-9</td>\n",
       "      <td>2020/09/30 00:00:00</td>\n",
       "      <td>0</td>\n",
       "      <td>1</td>\n",
       "      <td>0</td>\n",
       "      <td>Nicht übermittelt</td>\n",
       "    </tr>\n",
       "    <tr>\n",
       "      <th>1</th>\n",
       "      <td>52211391</td>\n",
       "      <td>1</td>\n",
       "      <td>Schleswig-Holstein</td>\n",
       "      <td>SK Flensburg</td>\n",
       "      <td>A00-A04</td>\n",
       "      <td>M</td>\n",
       "      <td>1</td>\n",
       "      <td>0</td>\n",
       "      <td>2020/10/29 00:00:00</td>\n",
       "      <td>1001</td>\n",
       "      <td>02.11.2020, 00:00 Uhr</td>\n",
       "      <td>0</td>\n",
       "      <td>-9</td>\n",
       "      <td>2020/10/29 00:00:00</td>\n",
       "      <td>-9</td>\n",
       "      <td>0</td>\n",
       "      <td>0</td>\n",
       "      <td>Nicht übermittelt</td>\n",
       "    </tr>\n",
       "    <tr>\n",
       "      <th>2</th>\n",
       "      <td>52211392</td>\n",
       "      <td>1</td>\n",
       "      <td>Schleswig-Holstein</td>\n",
       "      <td>SK Flensburg</td>\n",
       "      <td>A00-A04</td>\n",
       "      <td>W</td>\n",
       "      <td>1</td>\n",
       "      <td>0</td>\n",
       "      <td>2020/08/24 00:00:00</td>\n",
       "      <td>1001</td>\n",
       "      <td>02.11.2020, 00:00 Uhr</td>\n",
       "      <td>0</td>\n",
       "      <td>-9</td>\n",
       "      <td>2020/08/24 00:00:00</td>\n",
       "      <td>0</td>\n",
       "      <td>1</td>\n",
       "      <td>0</td>\n",
       "      <td>Nicht übermittelt</td>\n",
       "    </tr>\n",
       "    <tr>\n",
       "      <th>3</th>\n",
       "      <td>52211393</td>\n",
       "      <td>1</td>\n",
       "      <td>Schleswig-Holstein</td>\n",
       "      <td>SK Flensburg</td>\n",
       "      <td>A00-A04</td>\n",
       "      <td>W</td>\n",
       "      <td>1</td>\n",
       "      <td>0</td>\n",
       "      <td>2020/09/26 00:00:00</td>\n",
       "      <td>1001</td>\n",
       "      <td>02.11.2020, 00:00 Uhr</td>\n",
       "      <td>0</td>\n",
       "      <td>-9</td>\n",
       "      <td>2020/09/26 00:00:00</td>\n",
       "      <td>0</td>\n",
       "      <td>1</td>\n",
       "      <td>0</td>\n",
       "      <td>Nicht übermittelt</td>\n",
       "    </tr>\n",
       "    <tr>\n",
       "      <th>4</th>\n",
       "      <td>52211394</td>\n",
       "      <td>1</td>\n",
       "      <td>Schleswig-Holstein</td>\n",
       "      <td>SK Flensburg</td>\n",
       "      <td>A05-A14</td>\n",
       "      <td>M</td>\n",
       "      <td>1</td>\n",
       "      <td>0</td>\n",
       "      <td>2020/09/25 00:00:00</td>\n",
       "      <td>1001</td>\n",
       "      <td>02.11.2020, 00:00 Uhr</td>\n",
       "      <td>0</td>\n",
       "      <td>-9</td>\n",
       "      <td>2020/09/21 00:00:00</td>\n",
       "      <td>0</td>\n",
       "      <td>1</td>\n",
       "      <td>1</td>\n",
       "      <td>Nicht übermittelt</td>\n",
       "    </tr>\n",
       "  </tbody>\n",
       "</table>\n",
       "</div>"
      ],
      "text/plain": [
       "        FID  IdBundesland          Bundesland     Landkreis Altersgruppe  \\\n",
       "0  52211390             1  Schleswig-Holstein  SK Flensburg      A00-A04   \n",
       "1  52211391             1  Schleswig-Holstein  SK Flensburg      A00-A04   \n",
       "2  52211392             1  Schleswig-Holstein  SK Flensburg      A00-A04   \n",
       "3  52211393             1  Schleswig-Holstein  SK Flensburg      A00-A04   \n",
       "4  52211394             1  Schleswig-Holstein  SK Flensburg      A05-A14   \n",
       "\n",
       "  Geschlecht  AnzahlFall  AnzahlTodesfall           Meldedatum  IdLandkreis  \\\n",
       "0          M           1                0  2020/09/30 00:00:00         1001   \n",
       "1          M           1                0  2020/10/29 00:00:00         1001   \n",
       "2          W           1                0  2020/08/24 00:00:00         1001   \n",
       "3          W           1                0  2020/09/26 00:00:00         1001   \n",
       "4          M           1                0  2020/09/25 00:00:00         1001   \n",
       "\n",
       "              Datenstand  NeuerFall  NeuerTodesfall             Refdatum  \\\n",
       "0  02.11.2020, 00:00 Uhr          0              -9  2020/09/30 00:00:00   \n",
       "1  02.11.2020, 00:00 Uhr          0              -9  2020/10/29 00:00:00   \n",
       "2  02.11.2020, 00:00 Uhr          0              -9  2020/08/24 00:00:00   \n",
       "3  02.11.2020, 00:00 Uhr          0              -9  2020/09/26 00:00:00   \n",
       "4  02.11.2020, 00:00 Uhr          0              -9  2020/09/21 00:00:00   \n",
       "\n",
       "   NeuGenesen  AnzahlGenesen  IstErkrankungsbeginn      Altersgruppe2  \n",
       "0           0              1                     0  Nicht übermittelt  \n",
       "1          -9              0                     0  Nicht übermittelt  \n",
       "2           0              1                     0  Nicht übermittelt  \n",
       "3           0              1                     0  Nicht übermittelt  \n",
       "4           0              1                     1  Nicht übermittelt  "
      ]
     },
     "execution_count": 2,
     "metadata": {},
     "output_type": "execute_result"
    }
   ],
   "source": [
    "data = pd.read_csv(\"RKI_COVID19-20201102.csv\")\n",
    "data = data.replace (\"unbekannt\", \"unknown\") #unbekannt = unknown\n",
    "data.head()"
   ]
  },
  {
   "cell_type": "markdown",
   "metadata": {},
   "source": [
    "Then I print out the information about my data"
   ]
  },
  {
   "cell_type": "code",
   "execution_count": 3,
   "metadata": {},
   "outputs": [
    {
     "name": "stdout",
     "output_type": "stream",
     "text": [
      "<class 'pandas.core.frame.DataFrame'>\n",
      "RangeIndex: 361121 entries, 0 to 361120\n",
      "Data columns (total 18 columns):\n",
      " #   Column                Non-Null Count   Dtype \n",
      "---  ------                --------------   ----- \n",
      " 0   FID                   361121 non-null  int64 \n",
      " 1   IdBundesland          361121 non-null  int64 \n",
      " 2   Bundesland            361121 non-null  object\n",
      " 3   Landkreis             361121 non-null  object\n",
      " 4   Altersgruppe          361121 non-null  object\n",
      " 5   Geschlecht            361121 non-null  object\n",
      " 6   AnzahlFall            361121 non-null  int64 \n",
      " 7   AnzahlTodesfall       361121 non-null  int64 \n",
      " 8   Meldedatum            361121 non-null  object\n",
      " 9   IdLandkreis           361121 non-null  int64 \n",
      " 10  Datenstand            361121 non-null  object\n",
      " 11  NeuerFall             361121 non-null  int64 \n",
      " 12  NeuerTodesfall        361121 non-null  int64 \n",
      " 13  Refdatum              361121 non-null  object\n",
      " 14  NeuGenesen            361121 non-null  int64 \n",
      " 15  AnzahlGenesen         361121 non-null  int64 \n",
      " 16  IstErkrankungsbeginn  361121 non-null  int64 \n",
      " 17  Altersgruppe2         361121 non-null  object\n",
      "dtypes: int64(10), object(8)\n",
      "memory usage: 49.6+ MB\n"
     ]
    }
   ],
   "source": [
    "data.info()"
   ]
  },
  {
   "cell_type": "markdown",
   "metadata": {},
   "source": [
    "I see the statistical summary of all columns in my DataFrame."
   ]
  },
  {
   "cell_type": "code",
   "execution_count": 18,
   "metadata": {},
   "outputs": [
    {
     "data": {
      "text/html": [
       "<div>\n",
       "<style scoped>\n",
       "    .dataframe tbody tr th:only-of-type {\n",
       "        vertical-align: middle;\n",
       "    }\n",
       "\n",
       "    .dataframe tbody tr th {\n",
       "        vertical-align: top;\n",
       "    }\n",
       "\n",
       "    .dataframe thead th {\n",
       "        text-align: right;\n",
       "    }\n",
       "</style>\n",
       "<table border=\"1\" class=\"dataframe\">\n",
       "  <thead>\n",
       "    <tr style=\"text-align: right;\">\n",
       "      <th></th>\n",
       "      <th>FID</th>\n",
       "      <th>IdBundesland</th>\n",
       "      <th>AnzahlFall</th>\n",
       "      <th>AnzahlTodesfall</th>\n",
       "      <th>IdLandkreis</th>\n",
       "      <th>NeuerFall</th>\n",
       "      <th>NeuerTodesfall</th>\n",
       "      <th>NeuGenesen</th>\n",
       "      <th>AnzahlGenesen</th>\n",
       "      <th>IstErkrankungsbeginn</th>\n",
       "    </tr>\n",
       "  </thead>\n",
       "  <tbody>\n",
       "    <tr>\n",
       "      <th>count</th>\n",
       "      <td>3.611210e+05</td>\n",
       "      <td>361121.000000</td>\n",
       "      <td>361121.000000</td>\n",
       "      <td>361121.000000</td>\n",
       "      <td>361121.000000</td>\n",
       "      <td>361121.000000</td>\n",
       "      <td>361121.000000</td>\n",
       "      <td>361121.000000</td>\n",
       "      <td>361121.000000</td>\n",
       "      <td>361121.000000</td>\n",
       "    </tr>\n",
       "    <tr>\n",
       "      <th>mean</th>\n",
       "      <td>5.239195e+07</td>\n",
       "      <td>7.404380</td>\n",
       "      <td>1.509079</td>\n",
       "      <td>0.029156</td>\n",
       "      <td>7729.423661</td>\n",
       "      <td>0.013394</td>\n",
       "      <td>-8.755029</td>\n",
       "      <td>-1.907513</td>\n",
       "      <td>1.005502</td>\n",
       "      <td>0.673295</td>\n",
       "    </tr>\n",
       "    <tr>\n",
       "      <th>std</th>\n",
       "      <td>1.042468e+05</td>\n",
       "      <td>3.135681</td>\n",
       "      <td>2.229566</td>\n",
       "      <td>0.184661</td>\n",
       "      <td>3105.956945</td>\n",
       "      <td>0.116464</td>\n",
       "      <td>1.464945</td>\n",
       "      <td>3.696851</td>\n",
       "      <td>1.099767</td>\n",
       "      <td>0.469009</td>\n",
       "    </tr>\n",
       "    <tr>\n",
       "      <th>min</th>\n",
       "      <td>5.221139e+07</td>\n",
       "      <td>1.000000</td>\n",
       "      <td>-3.000000</td>\n",
       "      <td>-1.000000</td>\n",
       "      <td>1001.000000</td>\n",
       "      <td>-1.000000</td>\n",
       "      <td>-9.000000</td>\n",
       "      <td>-9.000000</td>\n",
       "      <td>-1.000000</td>\n",
       "      <td>0.000000</td>\n",
       "    </tr>\n",
       "    <tr>\n",
       "      <th>25%</th>\n",
       "      <td>5.230167e+07</td>\n",
       "      <td>5.000000</td>\n",
       "      <td>1.000000</td>\n",
       "      <td>0.000000</td>\n",
       "      <td>5513.000000</td>\n",
       "      <td>0.000000</td>\n",
       "      <td>-9.000000</td>\n",
       "      <td>0.000000</td>\n",
       "      <td>1.000000</td>\n",
       "      <td>0.000000</td>\n",
       "    </tr>\n",
       "    <tr>\n",
       "      <th>50%</th>\n",
       "      <td>5.239195e+07</td>\n",
       "      <td>8.000000</td>\n",
       "      <td>1.000000</td>\n",
       "      <td>0.000000</td>\n",
       "      <td>8118.000000</td>\n",
       "      <td>0.000000</td>\n",
       "      <td>-9.000000</td>\n",
       "      <td>0.000000</td>\n",
       "      <td>1.000000</td>\n",
       "      <td>1.000000</td>\n",
       "    </tr>\n",
       "    <tr>\n",
       "      <th>75%</th>\n",
       "      <td>5.248223e+07</td>\n",
       "      <td>9.000000</td>\n",
       "      <td>1.000000</td>\n",
       "      <td>0.000000</td>\n",
       "      <td>9375.000000</td>\n",
       "      <td>0.000000</td>\n",
       "      <td>-9.000000</td>\n",
       "      <td>0.000000</td>\n",
       "      <td>1.000000</td>\n",
       "      <td>1.000000</td>\n",
       "    </tr>\n",
       "    <tr>\n",
       "      <th>max</th>\n",
       "      <td>5.257251e+07</td>\n",
       "      <td>16.000000</td>\n",
       "      <td>147.000000</td>\n",
       "      <td>8.000000</td>\n",
       "      <td>16077.000000</td>\n",
       "      <td>1.000000</td>\n",
       "      <td>1.000000</td>\n",
       "      <td>1.000000</td>\n",
       "      <td>147.000000</td>\n",
       "      <td>1.000000</td>\n",
       "    </tr>\n",
       "  </tbody>\n",
       "</table>\n",
       "</div>"
      ],
      "text/plain": [
       "                FID   IdBundesland     AnzahlFall  AnzahlTodesfall  \\\n",
       "count  3.611210e+05  361121.000000  361121.000000    361121.000000   \n",
       "mean   5.239195e+07       7.404380       1.509079         0.029156   \n",
       "std    1.042468e+05       3.135681       2.229566         0.184661   \n",
       "min    5.221139e+07       1.000000      -3.000000        -1.000000   \n",
       "25%    5.230167e+07       5.000000       1.000000         0.000000   \n",
       "50%    5.239195e+07       8.000000       1.000000         0.000000   \n",
       "75%    5.248223e+07       9.000000       1.000000         0.000000   \n",
       "max    5.257251e+07      16.000000     147.000000         8.000000   \n",
       "\n",
       "         IdLandkreis      NeuerFall  NeuerTodesfall     NeuGenesen  \\\n",
       "count  361121.000000  361121.000000   361121.000000  361121.000000   \n",
       "mean     7729.423661       0.013394       -8.755029      -1.907513   \n",
       "std      3105.956945       0.116464        1.464945       3.696851   \n",
       "min      1001.000000      -1.000000       -9.000000      -9.000000   \n",
       "25%      5513.000000       0.000000       -9.000000       0.000000   \n",
       "50%      8118.000000       0.000000       -9.000000       0.000000   \n",
       "75%      9375.000000       0.000000       -9.000000       0.000000   \n",
       "max     16077.000000       1.000000        1.000000       1.000000   \n",
       "\n",
       "       AnzahlGenesen  IstErkrankungsbeginn  \n",
       "count  361121.000000         361121.000000  \n",
       "mean        1.005502              0.673295  \n",
       "std         1.099767              0.469009  \n",
       "min        -1.000000              0.000000  \n",
       "25%         1.000000              0.000000  \n",
       "50%         1.000000              1.000000  \n",
       "75%         1.000000              1.000000  \n",
       "max       147.000000              1.000000  "
      ]
     },
     "execution_count": 18,
     "metadata": {},
     "output_type": "execute_result"
    }
   ],
   "source": [
    "data.describe()"
   ]
  },
  {
   "cell_type": "markdown",
   "metadata": {},
   "source": [
    "I check if all of the values in my data contain null value."
   ]
  },
  {
   "cell_type": "code",
   "execution_count": 4,
   "metadata": {
    "scrolled": true
   },
   "outputs": [
    {
     "data": {
      "text/plain": [
       "FID                     0\n",
       "IdBundesland            0\n",
       "Bundesland              0\n",
       "Landkreis               0\n",
       "Altersgruppe            0\n",
       "Geschlecht              0\n",
       "AnzahlFall              0\n",
       "AnzahlTodesfall         0\n",
       "Meldedatum              0\n",
       "IdLandkreis             0\n",
       "Datenstand              0\n",
       "NeuerFall               0\n",
       "NeuerTodesfall          0\n",
       "Refdatum                0\n",
       "NeuGenesen              0\n",
       "AnzahlGenesen           0\n",
       "IstErkrankungsbeginn    0\n",
       "Altersgruppe2           0\n",
       "dtype: int64"
      ]
     },
     "execution_count": 4,
     "metadata": {},
     "output_type": "execute_result"
    }
   ],
   "source": [
    "data.isnull().sum()"
   ]
  },
  {
   "cell_type": "markdown",
   "metadata": {},
   "source": [
    "Let's see how many various values there are in the gender column by using the value_counts() function."
   ]
  },
  {
   "cell_type": "code",
   "execution_count": 5,
   "metadata": {},
   "outputs": [
    {
     "data": {
      "text/plain": [
       "W          180668\n",
       "M          178179\n",
       "unknown      2274\n",
       "Name: Geschlecht, dtype: int64"
      ]
     },
     "execution_count": 5,
     "metadata": {},
     "output_type": "execute_result"
    }
   ],
   "source": [
    "data['Geschlecht'].value_counts()\n"
   ]
  },
  {
   "cell_type": "markdown",
   "metadata": {},
   "source": [
    "I use the groupby function to aaggregate  the data by total cases of Covid-19 in Germany by \n",
    "* age group \n",
    "* federal states\n",
    "* gender "
   ]
  },
  {
   "cell_type": "code",
   "execution_count": 6,
   "metadata": {
    "scrolled": true
   },
   "outputs": [
    {
     "data": {
      "text/html": [
       "<div>\n",
       "<style scoped>\n",
       "    .dataframe tbody tr th:only-of-type {\n",
       "        vertical-align: middle;\n",
       "    }\n",
       "\n",
       "    .dataframe tbody tr th {\n",
       "        vertical-align: top;\n",
       "    }\n",
       "\n",
       "    .dataframe thead th {\n",
       "        text-align: right;\n",
       "    }\n",
       "</style>\n",
       "<table border=\"1\" class=\"dataframe\">\n",
       "  <thead>\n",
       "    <tr style=\"text-align: right;\">\n",
       "      <th></th>\n",
       "      <th>FID</th>\n",
       "      <th>IdBundesland</th>\n",
       "      <th>AnzahlFall</th>\n",
       "      <th>AnzahlTodesfall</th>\n",
       "      <th>IdLandkreis</th>\n",
       "      <th>NeuerFall</th>\n",
       "      <th>NeuerTodesfall</th>\n",
       "      <th>NeuGenesen</th>\n",
       "      <th>AnzahlGenesen</th>\n",
       "      <th>IstErkrankungsbeginn</th>\n",
       "    </tr>\n",
       "    <tr>\n",
       "      <th>Geschlecht</th>\n",
       "      <th></th>\n",
       "      <th></th>\n",
       "      <th></th>\n",
       "      <th></th>\n",
       "      <th></th>\n",
       "      <th></th>\n",
       "      <th></th>\n",
       "      <th></th>\n",
       "      <th></th>\n",
       "      <th></th>\n",
       "    </tr>\n",
       "  </thead>\n",
       "  <tbody>\n",
       "    <tr>\n",
       "      <th>F</th>\n",
       "      <td>9465706518467</td>\n",
       "      <td>1343211</td>\n",
       "      <td>270845</td>\n",
       "      <td>4682</td>\n",
       "      <td>1401967194</td>\n",
       "      <td>2413</td>\n",
       "      <td>-1587834</td>\n",
       "      <td>-335025</td>\n",
       "      <td>181807</td>\n",
       "      <td>123346</td>\n",
       "    </tr>\n",
       "    <tr>\n",
       "      <th>M</th>\n",
       "      <td>9334965992452</td>\n",
       "      <td>1314116</td>\n",
       "      <td>271042</td>\n",
       "      <td>5841</td>\n",
       "      <td>1371990389</td>\n",
       "      <td>2306</td>\n",
       "      <td>-1553379</td>\n",
       "      <td>-342089</td>\n",
       "      <td>180225</td>\n",
       "      <td>119234</td>\n",
       "    </tr>\n",
       "    <tr>\n",
       "      <th>unknown</th>\n",
       "      <td>119160865031</td>\n",
       "      <td>16550</td>\n",
       "      <td>3073</td>\n",
       "      <td>6</td>\n",
       "      <td>17299619</td>\n",
       "      <td>118</td>\n",
       "      <td>-20412</td>\n",
       "      <td>-11729</td>\n",
       "      <td>1076</td>\n",
       "      <td>561</td>\n",
       "    </tr>\n",
       "  </tbody>\n",
       "</table>\n",
       "</div>"
      ],
      "text/plain": [
       "                      FID  IdBundesland  AnzahlFall  AnzahlTodesfall  \\\n",
       "Geschlecht                                                             \n",
       "F           9465706518467       1343211      270845             4682   \n",
       "M           9334965992452       1314116      271042             5841   \n",
       "unknown      119160865031         16550        3073                6   \n",
       "\n",
       "            IdLandkreis  NeuerFall  NeuerTodesfall  NeuGenesen  AnzahlGenesen  \\\n",
       "Geschlecht                                                                      \n",
       "F            1401967194       2413        -1587834     -335025         181807   \n",
       "M            1371990389       2306        -1553379     -342089         180225   \n",
       "unknown        17299619        118          -20412      -11729           1076   \n",
       "\n",
       "            IstErkrankungsbeginn  \n",
       "Geschlecht                        \n",
       "F                         123346  \n",
       "M                         119234  \n",
       "unknown                      561  "
      ]
     },
     "execution_count": 6,
     "metadata": {},
     "output_type": "execute_result"
    }
   ],
   "source": [
    "# aggregate by age group\n",
    "data_subset_age = data.groupby(['Altersgruppe']).sum() #Altersgruppe: age group\n",
    "data_subset_age.head()\n",
    "\n",
    "#aggregate by federal states\n",
    "data_subset_state = data.groupby(['Bundesland']).sum() #Bundesland: federal state\n",
    "data_subset_state.head()\n",
    "\n",
    "#aggregate by gender\n",
    "#replace \"W\" value for the gender to \"F\" (female)\n",
    "data_subset_gender = data.replace(\"W\", \"F\").groupby(['Geschlecht']).sum() #Geschlecht: gender\n",
    "data_subset_gender.head()"
   ]
  },
  {
   "cell_type": "markdown",
   "metadata": {},
   "source": [
    "Next I draw the bar chart of total cases of Covid 19 in Germany by age group using the data_subset_age"
   ]
  },
  {
   "cell_type": "code",
   "execution_count": 14,
   "metadata": {
    "scrolled": false
   },
   "outputs": [
    {
     "data": {
      "image/png": "[encoded data removed]",
      "text/plain": [
       "<Figure size 432x288 with 1 Axes>"
      ]
     },
     "metadata": {
      "needs_background": "light"
     },
     "output_type": "display_data"
    }
   ],
   "source": [
    "#Bar chart of total cases of Covid 19 in Germany by age group\n",
    "ax = sns.barplot(x= data_subset_age.index, y=\"AnzahlFall\", data = data_subset_age) #AnzahlFall: Total cases\n",
    "ax.set_title(\"Total cases of Covid-19 in Germany by age group\")\n",
    "ax.set_xlabel(\"Age group\")\n",
    "ax.set_ylabel(\"Total cases\")\n",
    "plt.show()"
   ]
  },
  {
   "cell_type": "markdown",
   "metadata": {},
   "source": [
    "As we can see from the bar chart, people who are older than 15 and younger than 34 years old and older than 34 years old and younger than 59 years old have the most risiko to be infected by Covid-19. "
   ]
  },
  {
   "cell_type": "markdown",
   "metadata": {},
   "source": [
    "Next I draw the bar chart of total cases of Covid-19 by gender using the data_subset_gender"
   ]
  },
  {
   "cell_type": "code",
   "execution_count": 7,
   "metadata": {},
   "outputs": [
    {
     "data": {
      "image/png": "[encoded data removed]",
      "text/plain": [
       "<Figure size 432x288 with 1 Axes>"
      ]
     },
     "metadata": {
      "needs_background": "light"
     },
     "output_type": "display_data"
    }
   ],
   "source": [
    "ax = sns.barplot(x= data_subset_gender.index, y=\"AnzahlFall\", data = data_subset_gender) #AnzahlFall: Total cases\n",
    "ax.set_title(\"Total cases of Covid-19 in Germany by gender\")\n",
    "ax.set_xlabel(\"Gender\")\n",
    "ax.set_ylabel(\"Total cases\")\n",
    "plt.show()"
   ]
  },
  {
   "cell_type": "markdown",
   "metadata": {},
   "source": [
    "The bar chart shows that there is no difference between gender to be infected by Covid 19 in Germany."
   ]
  },
  {
   "cell_type": "markdown",
   "metadata": {},
   "source": [
    "Then I draw the bar chart of total cases of Covid 19 in Germany by federal states using the data_subste_state"
   ]
  },
  {
   "cell_type": "code",
   "execution_count": 5,
   "metadata": {},
   "outputs": [
    {
     "data": {
      "image/png": "[encoded data removed]",
      "text/plain": [
       "<Figure size 432x288 with 1 Axes>"
      ]
     },
     "metadata": {
      "needs_background": "light"
     },
     "output_type": "display_data"
    }
   ],
   "source": [
    "ax = sns.barplot(x= \"AnzahlFall\", y=data_subset_state.index, data = data_subset_state, orient = 'h') #AnzahlFall: Total cases\n",
    "ax.set_title(\"Total cases of Covid-19 in Germany by state\")\n",
    "ax.set_xlabel(\"Total cases\")\n",
    "ax.set_ylabel(\"Tederal state\")\n",
    "plt.show()"
   ]
  },
  {
   "cell_type": "markdown",
   "metadata": {},
   "source": [
    "From the bar chart we can see that the state 'Bayern', Nordrhein Westfalen and Baden Württemberg have the most number cases of Covid 19 in Germany. Mecklenburg Vorpommern and Sachsen-anhalt have the least cases. "
   ]
  },
  {
   "cell_type": "markdown",
   "metadata": {},
   "source": [
    "As we can see from these bar charts, although they show the number of people infected with the SARS-CoV-2 virus broken down by age group, state and gender, these numbers ae not very meaningful in this form, because it is very difficult to read off how the individual factors relate to each other and which factors actually have an influence on the risk of infection. The reason for this is that the factors are distributed on separate charts in each case. A combined bar chart would be more beneficial.\n",
    "\n",
    "More importantly, several problems exist with the data itself. First, absolute numbers are being compared. No indication of the total percentage of the population or tests performed exists in this file. It would make more sense to compare relative frequencies.\n",
    "\n",
    "Secondly, this analysis lists only cases that have been tested, based on suspicion. However, infection often does not cause any symptoms. In addition, none of the tests are 100% reliable to date making the number of unreported positive cases very high. This problem would be solved by a representative analysis. The cross-sectional analysis, in which a representative group is evaluated, would be more advantageous to make statements.\n",
    "\n",
    "Third, the numbers do not really tell us anything about the evolution of what is really happening in the population. On the one hand, while they capture the number of people who have been infected with the virus, they don't really tell us anything about the trend in the population. For example, the number of cases recorded in a particular area may peak on Monday but reach its lowest level the next day. This either means that the population is taking precautions, or it may simply mean that not enough people are being tested because the offices are closed, for example. This random occurrence should not be included in the analysis of actual trends, but should instead be disregarded. The only trend to look for is whether the number of cases in a given area is gradually decreasing or increasing.\n",
    "\n",
    "Last but not least, the criteria and definition of cause of death differs from place to place. For example, if a patient weakened by Covid-19 would die from pneumonia, the question is: did he die with or by Covid-19? Very often, there is confusion about this. Due to the overloaded capacities, as well as the high risk of infection, autopsies are often omitted.\n",
    "Unfortunately, this problem cannot be solved by the current logistical bottlenecks, but at least it can be reduced."
   ]
  },
  {
   "cell_type": "markdown",
   "metadata": {},
   "source": [
    "As the numbers of these bar charts are not very meaningful, in the next analysis I use the age structure in Germany data to see more about the frequeny of being infected by Covid 19 out of the total population in Germany. "
   ]
  },
  {
   "cell_type": "markdown",
   "metadata": {},
   "source": [
    "First step I need to read the data using pandas and rename the columns name in german to english."
   ]
  },
  {
   "cell_type": "code",
   "execution_count": 15,
   "metadata": {},
   "outputs": [
    {
     "data": {
      "text/html": [
       "<div>\n",
       "<style scoped>\n",
       "    .dataframe tbody tr th:only-of-type {\n",
       "        vertical-align: middle;\n",
       "    }\n",
       "\n",
       "    .dataframe tbody tr th {\n",
       "        vertical-align: top;\n",
       "    }\n",
       "\n",
       "    .dataframe thead th {\n",
       "        text-align: right;\n",
       "    }\n",
       "</style>\n",
       "<table border=\"1\" class=\"dataframe\">\n",
       "  <thead>\n",
       "    <tr style=\"text-align: right;\">\n",
       "      <th></th>\n",
       "      <th>AGE</th>\n",
       "      <th>M</th>\n",
       "      <th>F</th>\n",
       "      <th>SUM</th>\n",
       "    </tr>\n",
       "  </thead>\n",
       "  <tbody>\n",
       "    <tr>\n",
       "      <th>0</th>\n",
       "      <td>unter 1 Jahr</td>\n",
       "      <td>397560</td>\n",
       "      <td>377310</td>\n",
       "      <td>774870</td>\n",
       "    </tr>\n",
       "    <tr>\n",
       "      <th>1</th>\n",
       "      <td>1</td>\n",
       "      <td>407210</td>\n",
       "      <td>386922</td>\n",
       "      <td>794132</td>\n",
       "    </tr>\n",
       "    <tr>\n",
       "      <th>2</th>\n",
       "      <td>2</td>\n",
       "      <td>411575</td>\n",
       "      <td>390840</td>\n",
       "      <td>802415</td>\n",
       "    </tr>\n",
       "    <tr>\n",
       "      <th>3</th>\n",
       "      <td>3</td>\n",
       "      <td>413588</td>\n",
       "      <td>394228</td>\n",
       "      <td>807816</td>\n",
       "    </tr>\n",
       "    <tr>\n",
       "      <th>4</th>\n",
       "      <td>4</td>\n",
       "      <td>401776</td>\n",
       "      <td>380367</td>\n",
       "      <td>782143</td>\n",
       "    </tr>\n",
       "  </tbody>\n",
       "</table>\n",
       "</div>"
      ],
      "text/plain": [
       "            AGE       M       F     SUM\n",
       "0  unter 1 Jahr  397560  377310  774870\n",
       "1             1  407210  386922  794132\n",
       "2             2  411575  390840  802415\n",
       "3             3  413588  394228  807816\n",
       "4             4  401776  380367  782143"
      ]
     },
     "execution_count": 15,
     "metadata": {},
     "output_type": "execute_result"
    }
   ],
   "source": [
    "age_structure = pd.read_csv(\"altersstruktur2019.csv\", sep= \";\")\n",
    "age_structure = age_structure.rename(columns={'ALTER':'AGE', 'W':'F', 'SUMME': 'SUM'})\n",
    "age_structure.head()"
   ]
  },
  {
   "cell_type": "markdown",
   "metadata": {},
   "source": [
    "As we can see from my data, the values in the age column are not all numeric. So I have to change the value 'unter 1 Jahr' (in English: 'under 1 year') to 0 year and '85 und mehr' (in English. '85 and more') to 85 years old using the function replace()"
   ]
  },
  {
   "cell_type": "code",
   "execution_count": 16,
   "metadata": {},
   "outputs": [
    {
     "data": {
      "text/html": [
       "<div>\n",
       "<style scoped>\n",
       "    .dataframe tbody tr th:only-of-type {\n",
       "        vertical-align: middle;\n",
       "    }\n",
       "\n",
       "    .dataframe tbody tr th {\n",
       "        vertical-align: top;\n",
       "    }\n",
       "\n",
       "    .dataframe thead th {\n",
       "        text-align: right;\n",
       "    }\n",
       "</style>\n",
       "<table border=\"1\" class=\"dataframe\">\n",
       "  <thead>\n",
       "    <tr style=\"text-align: right;\">\n",
       "      <th></th>\n",
       "      <th>AGE</th>\n",
       "      <th>M</th>\n",
       "      <th>F</th>\n",
       "      <th>SUM</th>\n",
       "    </tr>\n",
       "  </thead>\n",
       "  <tbody>\n",
       "    <tr>\n",
       "      <th>0</th>\n",
       "      <td>0</td>\n",
       "      <td>397560</td>\n",
       "      <td>377310</td>\n",
       "      <td>774870</td>\n",
       "    </tr>\n",
       "    <tr>\n",
       "      <th>1</th>\n",
       "      <td>1</td>\n",
       "      <td>407210</td>\n",
       "      <td>386922</td>\n",
       "      <td>794132</td>\n",
       "    </tr>\n",
       "    <tr>\n",
       "      <th>2</th>\n",
       "      <td>2</td>\n",
       "      <td>411575</td>\n",
       "      <td>390840</td>\n",
       "      <td>802415</td>\n",
       "    </tr>\n",
       "    <tr>\n",
       "      <th>3</th>\n",
       "      <td>3</td>\n",
       "      <td>413588</td>\n",
       "      <td>394228</td>\n",
       "      <td>807816</td>\n",
       "    </tr>\n",
       "    <tr>\n",
       "      <th>4</th>\n",
       "      <td>4</td>\n",
       "      <td>401776</td>\n",
       "      <td>380367</td>\n",
       "      <td>782143</td>\n",
       "    </tr>\n",
       "  </tbody>\n",
       "</table>\n",
       "</div>"
      ],
      "text/plain": [
       "  AGE       M       F     SUM\n",
       "0   0  397560  377310  774870\n",
       "1   1  407210  386922  794132\n",
       "2   2  411575  390840  802415\n",
       "3   3  413588  394228  807816\n",
       "4   4  401776  380367  782143"
      ]
     },
     "execution_count": 16,
     "metadata": {},
     "output_type": "execute_result"
    }
   ],
   "source": [
    "age_structure.replace(to_replace=['unter 1 Jahr', '85 und mehr'], value= [0, 85],  inplace=True)\n",
    "age_structure.head()"
   ]
  },
  {
   "cell_type": "markdown",
   "metadata": {},
   "source": [
    "In the next few steps I want to group the data to give the number of residents in Germany in 2019 for each combination of sex and age group in the Covid-19 data set from the previous analyse. \n"
   ]
  },
  {
   "cell_type": "markdown",
   "metadata": {},
   "source": [
    "Then i check my data set if all the values are numeric using the function info()"
   ]
  },
  {
   "cell_type": "code",
   "execution_count": 17,
   "metadata": {},
   "outputs": [
    {
     "name": "stdout",
     "output_type": "stream",
     "text": [
      "<class 'pandas.core.frame.DataFrame'>\n",
      "RangeIndex: 86 entries, 0 to 85\n",
      "Data columns (total 4 columns):\n",
      " #   Column  Non-Null Count  Dtype \n",
      "---  ------  --------------  ----- \n",
      " 0   AGE     86 non-null     object\n",
      " 1   M       86 non-null     int64 \n",
      " 2   F       86 non-null     int64 \n",
      " 3   SUM     86 non-null     int64 \n",
      "dtypes: int64(3), object(1)\n",
      "memory usage: 2.8+ KB\n"
     ]
    }
   ],
   "source": [
    "age_structure.info()"
   ]
  },
  {
   "cell_type": "markdown",
   "metadata": {},
   "source": [
    "The data type of the age column is not numeric. Their values are object so I have to convert all values in this column to numeric using function to_numeric from pandas library."
   ]
  },
  {
   "cell_type": "code",
   "execution_count": 18,
   "metadata": {},
   "outputs": [
    {
     "name": "stdout",
     "output_type": "stream",
     "text": [
      "<class 'pandas.core.frame.DataFrame'>\n",
      "RangeIndex: 86 entries, 0 to 85\n",
      "Data columns (total 4 columns):\n",
      " #   Column  Non-Null Count  Dtype\n",
      "---  ------  --------------  -----\n",
      " 0   AGE     86 non-null     int64\n",
      " 1   M       86 non-null     int64\n",
      " 2   F       86 non-null     int64\n",
      " 3   SUM     86 non-null     int64\n",
      "dtypes: int64(4)\n",
      "memory usage: 2.8 KB\n"
     ]
    }
   ],
   "source": [
    "age_structure['AGE'] = pd.to_numeric(age_structure['AGE'])\n",
    "age_structure.info()"
   ]
  },
  {
   "cell_type": "markdown",
   "metadata": {},
   "source": [
    "When comparing the data from age_structure dataset with the dataset RCovid19 in the last analyse I see that the 2 age columns do not work together. So I have to change the age column in age_structure to have the same name as 'Altersgruppe' (in english : Age group) from RCovid 19 using function cut() from library pandas."
   ]
  },
  {
   "cell_type": "code",
   "execution_count": 19,
   "metadata": {},
   "outputs": [
    {
     "data": {
      "text/html": [
       "<div>\n",
       "<style scoped>\n",
       "    .dataframe tbody tr th:only-of-type {\n",
       "        vertical-align: middle;\n",
       "    }\n",
       "\n",
       "    .dataframe tbody tr th {\n",
       "        vertical-align: top;\n",
       "    }\n",
       "\n",
       "    .dataframe thead th {\n",
       "        text-align: right;\n",
       "    }\n",
       "</style>\n",
       "<table border=\"1\" class=\"dataframe\">\n",
       "  <thead>\n",
       "    <tr style=\"text-align: right;\">\n",
       "      <th></th>\n",
       "      <th>AGE</th>\n",
       "      <th>M</th>\n",
       "      <th>F</th>\n",
       "      <th>SUM</th>\n",
       "    </tr>\n",
       "  </thead>\n",
       "  <tbody>\n",
       "    <tr>\n",
       "      <th>0</th>\n",
       "      <td>A00-A04</td>\n",
       "      <td>397560</td>\n",
       "      <td>377310</td>\n",
       "      <td>774870</td>\n",
       "    </tr>\n",
       "    <tr>\n",
       "      <th>1</th>\n",
       "      <td>A00-A04</td>\n",
       "      <td>407210</td>\n",
       "      <td>386922</td>\n",
       "      <td>794132</td>\n",
       "    </tr>\n",
       "    <tr>\n",
       "      <th>2</th>\n",
       "      <td>A00-A04</td>\n",
       "      <td>411575</td>\n",
       "      <td>390840</td>\n",
       "      <td>802415</td>\n",
       "    </tr>\n",
       "    <tr>\n",
       "      <th>3</th>\n",
       "      <td>A00-A04</td>\n",
       "      <td>413588</td>\n",
       "      <td>394228</td>\n",
       "      <td>807816</td>\n",
       "    </tr>\n",
       "    <tr>\n",
       "      <th>4</th>\n",
       "      <td>A00-A04</td>\n",
       "      <td>401776</td>\n",
       "      <td>380367</td>\n",
       "      <td>782143</td>\n",
       "    </tr>\n",
       "  </tbody>\n",
       "</table>\n",
       "</div>"
      ],
      "text/plain": [
       "       AGE       M       F     SUM\n",
       "0  A00-A04  397560  377310  774870\n",
       "1  A00-A04  407210  386922  794132\n",
       "2  A00-A04  411575  390840  802415\n",
       "3  A00-A04  413588  394228  807816\n",
       "4  A00-A04  401776  380367  782143"
      ]
     },
     "execution_count": 19,
     "metadata": {},
     "output_type": "execute_result"
    }
   ],
   "source": [
    "age_structure['AGE'] = pd.cut(age_structure['AGE'],[0, 4, 14, 34, 59, 79, 85],\n",
    "                       labels = [\"A00-A04\", \"A05-A14\", \"A15-A34\", \"A35-A59\", \"A60-A79\", \"A80+\"],include_lowest=True)\n",
    "age_structure.head()"
   ]
  },
  {
   "cell_type": "markdown",
   "metadata": {},
   "source": [
    "Then I group the dataset by age group and calculate the total number of male, female"
   ]
  },
  {
   "cell_type": "code",
   "execution_count": 20,
   "metadata": {
    "scrolled": true
   },
   "outputs": [
    {
     "data": {
      "text/html": [
       "<div>\n",
       "<style scoped>\n",
       "    .dataframe tbody tr th:only-of-type {\n",
       "        vertical-align: middle;\n",
       "    }\n",
       "\n",
       "    .dataframe tbody tr th {\n",
       "        vertical-align: top;\n",
       "    }\n",
       "\n",
       "    .dataframe thead th {\n",
       "        text-align: right;\n",
       "    }\n",
       "</style>\n",
       "<table border=\"1\" class=\"dataframe\">\n",
       "  <thead>\n",
       "    <tr style=\"text-align: right;\">\n",
       "      <th></th>\n",
       "      <th>AGE</th>\n",
       "      <th>M</th>\n",
       "      <th>F</th>\n",
       "      <th>SUM</th>\n",
       "    </tr>\n",
       "  </thead>\n",
       "  <tbody>\n",
       "    <tr>\n",
       "      <th>0</th>\n",
       "      <td>A00-A04</td>\n",
       "      <td>2031709</td>\n",
       "      <td>1929667</td>\n",
       "      <td>3961376</td>\n",
       "    </tr>\n",
       "    <tr>\n",
       "      <th>1</th>\n",
       "      <td>A05-A14</td>\n",
       "      <td>3819994</td>\n",
       "      <td>3609889</td>\n",
       "      <td>7429883</td>\n",
       "    </tr>\n",
       "    <tr>\n",
       "      <th>2</th>\n",
       "      <td>A15-A34</td>\n",
       "      <td>9921590</td>\n",
       "      <td>9196275</td>\n",
       "      <td>19117865</td>\n",
       "    </tr>\n",
       "    <tr>\n",
       "      <th>3</th>\n",
       "      <td>A35-A59</td>\n",
       "      <td>14557156</td>\n",
       "      <td>14361978</td>\n",
       "      <td>28919134</td>\n",
       "    </tr>\n",
       "    <tr>\n",
       "      <th>4</th>\n",
       "      <td>A60-A79</td>\n",
       "      <td>8543290</td>\n",
       "      <td>9514028</td>\n",
       "      <td>18057318</td>\n",
       "    </tr>\n",
       "  </tbody>\n",
       "</table>\n",
       "</div>"
      ],
      "text/plain": [
       "       AGE         M         F       SUM\n",
       "0  A00-A04   2031709   1929667   3961376\n",
       "1  A05-A14   3819994   3609889   7429883\n",
       "2  A15-A34   9921590   9196275  19117865\n",
       "3  A35-A59  14557156  14361978  28919134\n",
       "4  A60-A79   8543290   9514028  18057318"
      ]
     },
     "execution_count": 20,
     "metadata": {},
     "output_type": "execute_result"
    }
   ],
   "source": [
    "age_structure = age_structure.groupby(['AGE']).sum()\n",
    "\n",
    "#reset the index of age_structure\n",
    "age_structure = age_structure.reset_index()\n",
    "age_structure.head()\n"
   ]
  },
  {
   "cell_type": "markdown",
   "metadata": {},
   "source": [
    "Then I add the number of inhibitants in each age group in male, female to a Dataframe. \n"
   ]
  },
  {
   "cell_type": "code",
   "execution_count": 21,
   "metadata": {},
   "outputs": [
    {
     "data": {
      "text/html": [
       "<div>\n",
       "<style scoped>\n",
       "    .dataframe tbody tr th:only-of-type {\n",
       "        vertical-align: middle;\n",
       "    }\n",
       "\n",
       "    .dataframe tbody tr th {\n",
       "        vertical-align: top;\n",
       "    }\n",
       "\n",
       "    .dataframe thead th {\n",
       "        text-align: right;\n",
       "    }\n",
       "</style>\n",
       "<table border=\"1\" class=\"dataframe\">\n",
       "  <thead>\n",
       "    <tr style=\"text-align: right;\">\n",
       "      <th></th>\n",
       "      <th>number_inhibitants</th>\n",
       "    </tr>\n",
       "  </thead>\n",
       "  <tbody>\n",
       "    <tr>\n",
       "      <th>0</th>\n",
       "      <td>2031709</td>\n",
       "    </tr>\n",
       "    <tr>\n",
       "      <th>1</th>\n",
       "      <td>1929667</td>\n",
       "    </tr>\n",
       "    <tr>\n",
       "      <th>2</th>\n",
       "      <td>3819994</td>\n",
       "    </tr>\n",
       "    <tr>\n",
       "      <th>3</th>\n",
       "      <td>3609889</td>\n",
       "    </tr>\n",
       "    <tr>\n",
       "      <th>4</th>\n",
       "      <td>9921590</td>\n",
       "    </tr>\n",
       "    <tr>\n",
       "      <th>5</th>\n",
       "      <td>9196275</td>\n",
       "    </tr>\n",
       "    <tr>\n",
       "      <th>6</th>\n",
       "      <td>14557156</td>\n",
       "    </tr>\n",
       "    <tr>\n",
       "      <th>7</th>\n",
       "      <td>14361978</td>\n",
       "    </tr>\n",
       "    <tr>\n",
       "      <th>8</th>\n",
       "      <td>8543290</td>\n",
       "    </tr>\n",
       "    <tr>\n",
       "      <th>9</th>\n",
       "      <td>9514028</td>\n",
       "    </tr>\n",
       "    <tr>\n",
       "      <th>10</th>\n",
       "      <td>2163874</td>\n",
       "    </tr>\n",
       "    <tr>\n",
       "      <th>11</th>\n",
       "      <td>3517261</td>\n",
       "    </tr>\n",
       "  </tbody>\n",
       "</table>\n",
       "</div>"
      ],
      "text/plain": [
       "    number_inhibitants\n",
       "0              2031709\n",
       "1              1929667\n",
       "2              3819994\n",
       "3              3609889\n",
       "4              9921590\n",
       "5              9196275\n",
       "6             14557156\n",
       "7             14361978\n",
       "8              8543290\n",
       "9              9514028\n",
       "10             2163874\n",
       "11             3517261"
      ]
     },
     "execution_count": 21,
     "metadata": {},
     "output_type": "execute_result"
    }
   ],
   "source": [
    "# an empty array \n",
    "number_inhibitants = [];\n",
    "\n",
    "#loop through the length of dataset\n",
    "for i in range(len(age_structure)):\n",
    "    \n",
    "    #add the number of male first in one age group\n",
    "    number_inhibitants.append(age_structure['M'][i])\n",
    "    \n",
    "    #then add the number of female  in one age group\n",
    "    number_inhibitants.append(age_structure['F'][i])\n",
    "\n",
    "#convert array to a dataframe\n",
    "inhibitant_df =  pd.DataFrame(number_inhibitants)\n",
    "\n",
    "#set the column name of dataframe\n",
    "inhibitant_df.columns = [\"number_inhibitants\"]\n",
    "inhibitant_df\n"
   ]
  },
  {
   "cell_type": "markdown",
   "metadata": {},
   "source": [
    "Next, I group the dataset RCovid-19 by age group and gender using groupby() function. I ignore the cases for the value unknown of the characteristic gender and age group, since we do not have suitable data for the population figures."
   ]
  },
  {
   "cell_type": "code",
   "execution_count": 22,
   "metadata": {
    "scrolled": true
   },
   "outputs": [
    {
     "data": {
      "text/html": [
       "<div>\n",
       "<style scoped>\n",
       "    .dataframe tbody tr th:only-of-type {\n",
       "        vertical-align: middle;\n",
       "    }\n",
       "\n",
       "    .dataframe tbody tr th {\n",
       "        vertical-align: top;\n",
       "    }\n",
       "\n",
       "    .dataframe thead th {\n",
       "        text-align: right;\n",
       "    }\n",
       "</style>\n",
       "<table border=\"1\" class=\"dataframe\">\n",
       "  <thead>\n",
       "    <tr style=\"text-align: right;\">\n",
       "      <th></th>\n",
       "      <th>Age group</th>\n",
       "      <th>Gender</th>\n",
       "      <th>Number_cases</th>\n",
       "      <th>Number_deaths</th>\n",
       "    </tr>\n",
       "  </thead>\n",
       "  <tbody>\n",
       "    <tr>\n",
       "      <th>0</th>\n",
       "      <td>A00-A04</td>\n",
       "      <td>M</td>\n",
       "      <td>5398</td>\n",
       "      <td>0</td>\n",
       "    </tr>\n",
       "    <tr>\n",
       "      <th>1</th>\n",
       "      <td>A00-A04</td>\n",
       "      <td>F</td>\n",
       "      <td>4874</td>\n",
       "      <td>1</td>\n",
       "    </tr>\n",
       "    <tr>\n",
       "      <th>2</th>\n",
       "      <td>A05-A14</td>\n",
       "      <td>M</td>\n",
       "      <td>15388</td>\n",
       "      <td>2</td>\n",
       "    </tr>\n",
       "    <tr>\n",
       "      <th>3</th>\n",
       "      <td>A05-A14</td>\n",
       "      <td>F</td>\n",
       "      <td>14391</td>\n",
       "      <td>0</td>\n",
       "    </tr>\n",
       "    <tr>\n",
       "      <th>4</th>\n",
       "      <td>A15-A34</td>\n",
       "      <td>M</td>\n",
       "      <td>93812</td>\n",
       "      <td>17</td>\n",
       "    </tr>\n",
       "  </tbody>\n",
       "</table>\n",
       "</div>"
      ],
      "text/plain": [
       "  Age group Gender  Number_cases  Number_deaths\n",
       "0   A00-A04      M          5398              0\n",
       "1   A00-A04      F          4874              1\n",
       "2   A05-A14      M         15388              2\n",
       "3   A05-A14      F         14391              0\n",
       "4   A15-A34      M         93812             17"
      ]
     },
     "execution_count": 22,
     "metadata": {},
     "output_type": "execute_result"
    }
   ],
   "source": [
    "#ignore the cases for the value unknown of the characteristic gender and age group\n",
    "data_subset = data[(data.Geschlecht != \"unknown\") & (data.Altersgruppe != \"unknown\")]\n",
    "\n",
    "#select the columns Altersgruppe(Age group), Geschlecht(Gender), AnzahlFall(Number_cases),\n",
    "#AnzahlTodesfall(Number_deaths) in data_subset\n",
    "data_subset = data_subset[[\"Altersgruppe\", \"Geschlecht\", \"AnzahlFall\", \"AnzahlTodesfall\"]]\n",
    "\n",
    "#group the dataset RCovid-19 by age group and gender\n",
    "data_group = data_subset.groupby(['Altersgruppe', 'Geschlecht']).sum()\n",
    "\n",
    "#reset the indexes of data_group \n",
    "data_group = data_group.reset_index()\n",
    "\n",
    "#rename the data_group's columns to english name\n",
    "data_group = data_group.rename(columns={'Altersgruppe':'Age group', 'Geschlecht':'Gender', 'AnzahlFall': 'Number_cases',\n",
    "                           'AnzahlTodesfall' :'Number_deaths'})\n",
    "data_group = data_group.replace('W','F')\n",
    "data_group.head()"
   ]
  },
  {
   "cell_type": "markdown",
   "metadata": {},
   "source": [
    "Next I concatenate the dataset age_group with the dataframe inhibitant_df together using function concat in library pandas. Since the concatenation is horizontal, axis = 1"
   ]
  },
  {
   "cell_type": "code",
   "execution_count": 23,
   "metadata": {
    "scrolled": true
   },
   "outputs": [
    {
     "data": {
      "text/html": [
       "<div>\n",
       "<style scoped>\n",
       "    .dataframe tbody tr th:only-of-type {\n",
       "        vertical-align: middle;\n",
       "    }\n",
       "\n",
       "    .dataframe tbody tr th {\n",
       "        vertical-align: top;\n",
       "    }\n",
       "\n",
       "    .dataframe thead th {\n",
       "        text-align: right;\n",
       "    }\n",
       "</style>\n",
       "<table border=\"1\" class=\"dataframe\">\n",
       "  <thead>\n",
       "    <tr style=\"text-align: right;\">\n",
       "      <th></th>\n",
       "      <th>Age group</th>\n",
       "      <th>Gender</th>\n",
       "      <th>Number_cases</th>\n",
       "      <th>Number_deaths</th>\n",
       "      <th>number_inhibitants</th>\n",
       "    </tr>\n",
       "  </thead>\n",
       "  <tbody>\n",
       "    <tr>\n",
       "      <th>0</th>\n",
       "      <td>A00-A04</td>\n",
       "      <td>M</td>\n",
       "      <td>5398</td>\n",
       "      <td>0</td>\n",
       "      <td>2031709</td>\n",
       "    </tr>\n",
       "    <tr>\n",
       "      <th>1</th>\n",
       "      <td>A00-A04</td>\n",
       "      <td>F</td>\n",
       "      <td>4874</td>\n",
       "      <td>1</td>\n",
       "      <td>1929667</td>\n",
       "    </tr>\n",
       "    <tr>\n",
       "      <th>2</th>\n",
       "      <td>A05-A14</td>\n",
       "      <td>M</td>\n",
       "      <td>15388</td>\n",
       "      <td>2</td>\n",
       "      <td>3819994</td>\n",
       "    </tr>\n",
       "    <tr>\n",
       "      <th>3</th>\n",
       "      <td>A05-A14</td>\n",
       "      <td>F</td>\n",
       "      <td>14391</td>\n",
       "      <td>0</td>\n",
       "      <td>3609889</td>\n",
       "    </tr>\n",
       "    <tr>\n",
       "      <th>4</th>\n",
       "      <td>A15-A34</td>\n",
       "      <td>M</td>\n",
       "      <td>93812</td>\n",
       "      <td>17</td>\n",
       "      <td>9921590</td>\n",
       "    </tr>\n",
       "    <tr>\n",
       "      <th>5</th>\n",
       "      <td>A15-A34</td>\n",
       "      <td>F</td>\n",
       "      <td>86743</td>\n",
       "      <td>6</td>\n",
       "      <td>9196275</td>\n",
       "    </tr>\n",
       "    <tr>\n",
       "      <th>6</th>\n",
       "      <td>A35-A59</td>\n",
       "      <td>M</td>\n",
       "      <td>104284</td>\n",
       "      <td>365</td>\n",
       "      <td>14557156</td>\n",
       "    </tr>\n",
       "    <tr>\n",
       "      <th>7</th>\n",
       "      <td>A35-A59</td>\n",
       "      <td>F</td>\n",
       "      <td>105048</td>\n",
       "      <td>136</td>\n",
       "      <td>14361978</td>\n",
       "    </tr>\n",
       "    <tr>\n",
       "      <th>8</th>\n",
       "      <td>A60-A79</td>\n",
       "      <td>M</td>\n",
       "      <td>38683</td>\n",
       "      <td>2315</td>\n",
       "      <td>8543290</td>\n",
       "    </tr>\n",
       "    <tr>\n",
       "      <th>9</th>\n",
       "      <td>A60-A79</td>\n",
       "      <td>F</td>\n",
       "      <td>36588</td>\n",
       "      <td>1029</td>\n",
       "      <td>9514028</td>\n",
       "    </tr>\n",
       "    <tr>\n",
       "      <th>10</th>\n",
       "      <td>A80+</td>\n",
       "      <td>M</td>\n",
       "      <td>12927</td>\n",
       "      <td>3142</td>\n",
       "      <td>2163874</td>\n",
       "    </tr>\n",
       "    <tr>\n",
       "      <th>11</th>\n",
       "      <td>A80+</td>\n",
       "      <td>F</td>\n",
       "      <td>22720</td>\n",
       "      <td>3509</td>\n",
       "      <td>3517261</td>\n",
       "    </tr>\n",
       "  </tbody>\n",
       "</table>\n",
       "</div>"
      ],
      "text/plain": [
       "   Age group Gender  Number_cases  Number_deaths  number_inhibitants\n",
       "0    A00-A04      M          5398              0             2031709\n",
       "1    A00-A04      F          4874              1             1929667\n",
       "2    A05-A14      M         15388              2             3819994\n",
       "3    A05-A14      F         14391              0             3609889\n",
       "4    A15-A34      M         93812             17             9921590\n",
       "5    A15-A34      F         86743              6             9196275\n",
       "6    A35-A59      M        104284            365            14557156\n",
       "7    A35-A59      F        105048            136            14361978\n",
       "8    A60-A79      M         38683           2315             8543290\n",
       "9    A60-A79      F         36588           1029             9514028\n",
       "10      A80+      M         12927           3142             2163874\n",
       "11      A80+      F         22720           3509             3517261"
      ]
     },
     "execution_count": 23,
     "metadata": {},
     "output_type": "execute_result"
    }
   ],
   "source": [
    "data_set = pd.concat([data_group, inhibitant_df], axis=1)\n",
    "data_set"
   ]
  },
  {
   "cell_type": "markdown",
   "metadata": {},
   "source": [
    "To make the analysis more meaningful I add the following columns to the data_set:\n",
    "- death_rate_infected as conditional relative frequency f(died | infected, sex, age group).\n",
    "- death_rate_population as conditional relative frequency f(died | sex, age group)\n",
    "- case_rate_population as conditional relative frequency f(infected | sex, age group)"
   ]
  },
  {
   "cell_type": "code",
   "execution_count": 24,
   "metadata": {
    "scrolled": true
   },
   "outputs": [
    {
     "data": {
      "text/html": [
       "<div>\n",
       "<style scoped>\n",
       "    .dataframe tbody tr th:only-of-type {\n",
       "        vertical-align: middle;\n",
       "    }\n",
       "\n",
       "    .dataframe tbody tr th {\n",
       "        vertical-align: top;\n",
       "    }\n",
       "\n",
       "    .dataframe thead th {\n",
       "        text-align: right;\n",
       "    }\n",
       "</style>\n",
       "<table border=\"1\" class=\"dataframe\">\n",
       "  <thead>\n",
       "    <tr style=\"text-align: right;\">\n",
       "      <th></th>\n",
       "      <th>Age group</th>\n",
       "      <th>Gender</th>\n",
       "      <th>Number_cases</th>\n",
       "      <th>Number_deaths</th>\n",
       "      <th>number_inhibitants</th>\n",
       "      <th>death_rate_infected</th>\n",
       "      <th>death_rate_population</th>\n",
       "      <th>case_rate_population</th>\n",
       "    </tr>\n",
       "  </thead>\n",
       "  <tbody>\n",
       "    <tr>\n",
       "      <th>0</th>\n",
       "      <td>A00-A04</td>\n",
       "      <td>M</td>\n",
       "      <td>5398</td>\n",
       "      <td>0</td>\n",
       "      <td>2031709</td>\n",
       "      <td>0.000000</td>\n",
       "      <td>0.000000e+00</td>\n",
       "      <td>0.002657</td>\n",
       "    </tr>\n",
       "    <tr>\n",
       "      <th>1</th>\n",
       "      <td>A00-A04</td>\n",
       "      <td>F</td>\n",
       "      <td>4874</td>\n",
       "      <td>1</td>\n",
       "      <td>1929667</td>\n",
       "      <td>0.000205</td>\n",
       "      <td>5.182241e-07</td>\n",
       "      <td>0.002526</td>\n",
       "    </tr>\n",
       "    <tr>\n",
       "      <th>2</th>\n",
       "      <td>A05-A14</td>\n",
       "      <td>M</td>\n",
       "      <td>15388</td>\n",
       "      <td>2</td>\n",
       "      <td>3819994</td>\n",
       "      <td>0.000130</td>\n",
       "      <td>5.235610e-07</td>\n",
       "      <td>0.004028</td>\n",
       "    </tr>\n",
       "    <tr>\n",
       "      <th>3</th>\n",
       "      <td>A05-A14</td>\n",
       "      <td>F</td>\n",
       "      <td>14391</td>\n",
       "      <td>0</td>\n",
       "      <td>3609889</td>\n",
       "      <td>0.000000</td>\n",
       "      <td>0.000000e+00</td>\n",
       "      <td>0.003987</td>\n",
       "    </tr>\n",
       "    <tr>\n",
       "      <th>4</th>\n",
       "      <td>A15-A34</td>\n",
       "      <td>M</td>\n",
       "      <td>93812</td>\n",
       "      <td>17</td>\n",
       "      <td>9921590</td>\n",
       "      <td>0.000181</td>\n",
       "      <td>1.713435e-06</td>\n",
       "      <td>0.009455</td>\n",
       "    </tr>\n",
       "    <tr>\n",
       "      <th>5</th>\n",
       "      <td>A15-A34</td>\n",
       "      <td>F</td>\n",
       "      <td>86743</td>\n",
       "      <td>6</td>\n",
       "      <td>9196275</td>\n",
       "      <td>0.000069</td>\n",
       "      <td>6.524381e-07</td>\n",
       "      <td>0.009432</td>\n",
       "    </tr>\n",
       "    <tr>\n",
       "      <th>6</th>\n",
       "      <td>A35-A59</td>\n",
       "      <td>M</td>\n",
       "      <td>104284</td>\n",
       "      <td>365</td>\n",
       "      <td>14557156</td>\n",
       "      <td>0.003500</td>\n",
       "      <td>2.507358e-05</td>\n",
       "      <td>0.007164</td>\n",
       "    </tr>\n",
       "    <tr>\n",
       "      <th>7</th>\n",
       "      <td>A35-A59</td>\n",
       "      <td>F</td>\n",
       "      <td>105048</td>\n",
       "      <td>136</td>\n",
       "      <td>14361978</td>\n",
       "      <td>0.001295</td>\n",
       "      <td>9.469448e-06</td>\n",
       "      <td>0.007314</td>\n",
       "    </tr>\n",
       "    <tr>\n",
       "      <th>8</th>\n",
       "      <td>A60-A79</td>\n",
       "      <td>M</td>\n",
       "      <td>38683</td>\n",
       "      <td>2315</td>\n",
       "      <td>8543290</td>\n",
       "      <td>0.059845</td>\n",
       "      <td>2.709729e-04</td>\n",
       "      <td>0.004528</td>\n",
       "    </tr>\n",
       "    <tr>\n",
       "      <th>9</th>\n",
       "      <td>A60-A79</td>\n",
       "      <td>F</td>\n",
       "      <td>36588</td>\n",
       "      <td>1029</td>\n",
       "      <td>9514028</td>\n",
       "      <td>0.028124</td>\n",
       "      <td>1.081561e-04</td>\n",
       "      <td>0.003846</td>\n",
       "    </tr>\n",
       "    <tr>\n",
       "      <th>10</th>\n",
       "      <td>A80+</td>\n",
       "      <td>M</td>\n",
       "      <td>12927</td>\n",
       "      <td>3142</td>\n",
       "      <td>2163874</td>\n",
       "      <td>0.243057</td>\n",
       "      <td>1.452025e-03</td>\n",
       "      <td>0.005974</td>\n",
       "    </tr>\n",
       "    <tr>\n",
       "      <th>11</th>\n",
       "      <td>A80+</td>\n",
       "      <td>F</td>\n",
       "      <td>22720</td>\n",
       "      <td>3509</td>\n",
       "      <td>3517261</td>\n",
       "      <td>0.154445</td>\n",
       "      <td>9.976513e-04</td>\n",
       "      <td>0.006460</td>\n",
       "    </tr>\n",
       "  </tbody>\n",
       "</table>\n",
       "</div>"
      ],
      "text/plain": [
       "   Age group Gender  Number_cases  Number_deaths  number_inhibitants  \\\n",
       "0    A00-A04      M          5398              0             2031709   \n",
       "1    A00-A04      F          4874              1             1929667   \n",
       "2    A05-A14      M         15388              2             3819994   \n",
       "3    A05-A14      F         14391              0             3609889   \n",
       "4    A15-A34      M         93812             17             9921590   \n",
       "5    A15-A34      F         86743              6             9196275   \n",
       "6    A35-A59      M        104284            365            14557156   \n",
       "7    A35-A59      F        105048            136            14361978   \n",
       "8    A60-A79      M         38683           2315             8543290   \n",
       "9    A60-A79      F         36588           1029             9514028   \n",
       "10      A80+      M         12927           3142             2163874   \n",
       "11      A80+      F         22720           3509             3517261   \n",
       "\n",
       "    death_rate_infected  death_rate_population  case_rate_population  \n",
       "0              0.000000           0.000000e+00              0.002657  \n",
       "1              0.000205           5.182241e-07              0.002526  \n",
       "2              0.000130           5.235610e-07              0.004028  \n",
       "3              0.000000           0.000000e+00              0.003987  \n",
       "4              0.000181           1.713435e-06              0.009455  \n",
       "5              0.000069           6.524381e-07              0.009432  \n",
       "6              0.003500           2.507358e-05              0.007164  \n",
       "7              0.001295           9.469448e-06              0.007314  \n",
       "8              0.059845           2.709729e-04              0.004528  \n",
       "9              0.028124           1.081561e-04              0.003846  \n",
       "10             0.243057           1.452025e-03              0.005974  \n",
       "11             0.154445           9.976513e-04              0.006460  "
      ]
     },
     "execution_count": 24,
     "metadata": {},
     "output_type": "execute_result"
    }
   ],
   "source": [
    "import numpy as np\n",
    "np.set_printoptions(suppress=True)\n",
    "data_set['death_rate_infected'] = data_set['Number_deaths'] / data_set['Number_cases']\n",
    "data_set['death_rate_population'] = data_set['Number_deaths'] / data_set['number_inhibitants']\n",
    "data_set['case_rate_population'] = data_set['Number_cases'] / data_set['number_inhibitants']\n",
    "data_set"
   ]
  },
  {
   "cell_type": "markdown",
   "metadata": {},
   "source": [
    " Finally I visualize the case and death rates from the data_set using bar ploe"
   ]
  },
  {
   "cell_type": "markdown",
   "metadata": {},
   "source": [
    "I use a function to plot the horizontal plot with the following parameters:\n",
    "- data: the data is used to plot\n",
    "- x : x-axis value\n",
    "- y: y-axis value\n",
    "- fillter: the grouped value\n",
    "- xlabel: Label of x-axis\n",
    "- ylabel: Label of y-axis\n",
    "- title: the title of the plot"
   ]
  },
  {
   "cell_type": "code",
   "execution_count": 38,
   "metadata": {},
   "outputs": [],
   "source": [
    "def plot_horizontal_barplot(data, x, fillter, y, xlabel, ylabel, title):\n",
    "    data.pivot(x,fillter,y).plot(kind='barh')\n",
    "    plt.xlabel(xlabel)\n",
    "    plt.ylabel(ylabel)\n",
    "    plt.title(title)"
   ]
  },
  {
   "cell_type": "code",
   "execution_count": 39,
   "metadata": {
    "scrolled": true
   },
   "outputs": [
    {
     "data": {
      "image/png": "[encoded data removed]",
      "text/plain": [
       "<Figure size 432x288 with 1 Axes>"
      ]
     },
     "metadata": {
      "needs_background": "light"
     },
     "output_type": "display_data"
    }
   ],
   "source": [
    "plot_horizontal_barplot(data_set, \"Age group\", \"Gender\", \"death_rate_infected\",\"death_rate_infected\", \"Age group\", \n",
    "                       \"Conditional relative frequency death_rate_infected by Covid-19 in Germany\")"
   ]
  },
  {
   "cell_type": "code",
   "execution_count": 40,
   "metadata": {},
   "outputs": [
    {
     "data": {
      "image/png": "[encoded data removed]",
      "text/plain": [
       "<Figure size 432x288 with 1 Axes>"
      ]
     },
     "metadata": {
      "needs_background": "light"
     },
     "output_type": "display_data"
    }
   ],
   "source": [
    "plot_horizontal_barplot(data_set, \"Age group\", \"Gender\", \"death_rate_population\", \"death_rate_population\", \"Age group\",\n",
    "                        \"Conditional relative frequency death_rate_population by Covid-19 in Germany\")"
   ]
  },
  {
   "cell_type": "code",
   "execution_count": 41,
   "metadata": {},
   "outputs": [
    {
     "data": {
      "image/png": "[encoded data removed]",
      "text/plain": [
       "<Figure size 432x288 with 1 Axes>"
      ]
     },
     "metadata": {
      "needs_background": "light"
     },
     "output_type": "display_data"
    }
   ],
   "source": [
    "plot_horizontal_barplot(data_set, \"Age group\", \"Gender\",\"case_rate_population\", \"case_rate_population\", \"Age group\", \n",
    "                       \"Conditional relative frequency case_rate_population by Covid-19 in Germany\")"
   ]
  },
  {
   "cell_type": "markdown",
   "metadata": {},
   "source": [
    "From the three plotted diagrams I see that:\n",
    "* The death rate increases exponentially with age. Older people (60 years or older or ~ the last 20% of the age groups) have a much higher risk of dying from Covid 19. The less responsive immune system in old age, as well as the presence of pre-existing underlying diseases, increase the risk for severe disease progression\n",
    "* Gender has no visible influence on the infection rate, but men die significantly more than women when infected. In the age groups 15-79, the difference is more than twice as high as. The reason for this is not yet completely clear, but there is conjecture. Possibly the \"often unhealthier lifestyle of men\"  is to blame. In addition, \"the immune system of women reacts faster and more efficiently to infectious agents\".\n",
    "* Most of the infected people are in the adolescent and middle age (between 15 and 59 years). The reason for this is that these age groups are the most mobile and take the virus less seriously, as they are much less likely to die from the virus."
   ]
  }
 ],
 "metadata": {
  "kernelspec": {
   "display_name": "Python 3",
   "language": "python",
   "name": "python3"
  },
  "language_info": {
   "codemirror_mode": {
    "name": "ipython",
    "version": 3
   },
   "file_extension": ".py",
   "mimetype": "text/x-python",
   "name": "python",
   "nbconvert_exporter": "python",
   "pygments_lexer": "ipython3",
   "version": "3.8.3"
  }
 },
 "nbformat": 4,
 "nbformat_minor": 4
}
